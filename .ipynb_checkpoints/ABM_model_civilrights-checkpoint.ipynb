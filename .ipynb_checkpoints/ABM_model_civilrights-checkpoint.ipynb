{
 "cells": [
  {
   "cell_type": "code",
   "execution_count": 6,
   "id": "f130fc51-4de3-4a25-bfcb-cc71befe756d",
   "metadata": {},
   "outputs": [],
   "source": [
    "import numpy as np\n",
    "import random"
   ]
  },
  {
   "cell_type": "code",
   "execution_count": 33,
   "id": "ddc63e6b-6184-460a-aacd-ed93626de328",
   "metadata": {},
   "outputs": [
    {
     "name": "stdout",
     "output_type": "stream",
     "text": [
      "[[0. 0. 1. 0. 0.]\n",
      " [0. 0. 0. 0. 1.]\n",
      " [0. 0. 2. 0. 2.]\n",
      " [0. 0. 0. 0. 0.]\n",
      " [0. 0. 0. 0. 0.]]\n"
     ]
    }
   ],
   "source": [
    "def initialize_grid(grid_size, agent_density, cop_density):\n",
    "    grid = np.zeros((grid_size, grid_size))\n",
    "\n",
    "    num_agents = int(agent_density * (grid_size**2))\n",
    "    num_cops = int(cop_density * (grid_size**2))\n",
    "\n",
    "    placed_agents = 0\n",
    "    while placed_agents < num_agents:\n",
    "        x = random.randint(0, grid_size - 1)\n",
    "        y=random.randint(0,grid_size-1)\n",
    "        if grid[x][y] ==0:\n",
    "            grid[x][y] = 1   # 1 fir civilion\n",
    "            placed_agents += 1\n",
    "\n",
    "    placed_cops = 0\n",
    "    while placed_cops < num_cops:\n",
    "        x = random.randint(0, grid_size - 1)\n",
    "        y=random.randint(0,grid_size-1)\n",
    "        if grid[x][y] == 0:\n",
    "            grid[x][y] = 2 # 2 for cop\n",
    "            placed_cops += 1\n",
    "\n",
    "    return grid\n",
    "\n",
    "print(initialize_grid(5, 0.1, 0.1))   "
   ]
  },
  {
   "cell_type": "code",
   "execution_count": 40,
   "id": "546c2ba6-6a44-4fd3-a993-0fa862cc96e0",
   "metadata": {},
   "outputs": [
    {
     "name": "stdout",
     "output_type": "stream",
     "text": [
      "[[1. 0. 0. 0. 2.]\n",
      " [0. 0. 0. 0. 2.]\n",
      " [0. 0. 0. 0. 0.]\n",
      " [0. 0. 0. 1. 0.]\n",
      " [0. 0. 0. 0. 0.]]\n"
     ]
    }
   ],
   "source": [
    "grid_1 = initialize_grid(5, 0.1, 0.1)\n",
    "print(grid_1)"
   ]
  },
  {
   "cell_type": "code",
   "execution_count": 41,
   "id": "b5c358c0-f0bd-4090-9262-08e8dfe1ac70",
   "metadata": {},
   "outputs": [
    {
     "name": "stdout",
     "output_type": "stream",
     "text": [
      "{'id': 1, 'position': [1, 1], 'H': 0.8345270885685572, 'R': 0.9324307962507296, 'vision': 2, 'state': 'quiescent', 'jail_term': 0}\n"
     ]
    }
   ],
   "source": [
    "def create_agent(id, position, vision):\n",
    "    agent = {\n",
    "        \"id\": id,\n",
    "        \"position\": position,        \n",
    "        \"H\": np.random.uniform(),    \n",
    "        \"R\": np.random.uniform(), \n",
    "        \"vision\": vision,       \n",
    "        \"state\": \"quiescent\",\n",
    "        \"jail_term\": 0      \n",
    "    }\n",
    "    return agent\n",
    "agent_1 = create_agent(1, [0,0], 2)\n",
    "print(create_agent(1, [1,1], 2))\n",
    "\n",
    "def create_cop(id,position,vision):\n",
    "    cop = {\n",
    "        \"id\": id,\n",
    "        \"position\": position,\n",
    "        \"vision\": vision,\n",
    "    }\n",
    "    return cop"
   ]
  },
  {
   "cell_type": "code",
   "execution_count": 42,
   "id": "43c95d64-6842-4c93-8054-7e66b5a2e112",
   "metadata": {},
   "outputs": [
    {
     "data": {
      "text/plain": [
       "([(4, 0), (0, 1), (1, 0)],\n",
       " array([[1., 0., 0., 0., 2.],\n",
       "        [0., 0., 0., 0., 2.],\n",
       "        [0., 0., 0., 0., 0.],\n",
       "        [0., 0., 0., 1., 0.],\n",
       "        [0., 0., 0., 0., 0.]]))"
      ]
     },
     "execution_count": 42,
     "metadata": {},
     "output_type": "execute_result"
    }
   ],
   "source": [
    "def moving_function(entity,grid):\n",
    "    # entity = cop or agent \n",
    "    # vision now just integer of surroundings \n",
    "\n",
    "    x,y = entity[\"position\"]\n",
    "    vision = entity[\"vision\"]\n",
    "    grid_size = len(grid)\n",
    "\n",
    "    # first make \n",
    "    candidates = []\n",
    "\n",
    "\n",
    "    for dx in range(-vision,vision+1): # if vision is one  then dx is range of  -1,0,1\n",
    "        for dy in range(-vision,vision+1):\n",
    "            if abs(dx) + abs(dy) <= 1: # with this we exclude diagonal points so only \n",
    "                x_new = (x+ dx) % grid_size\n",
    "                y_new = (y+ dy) % grid_size\n",
    "                if grid[x_new][y_new] == 0 and not (dx == 0 and dy == 0): # exclude own point \n",
    "                    candidates.append((x_new, y_new))\n",
    "    print(candidates)\n",
    "    print(grid)\n",
    "    \n",
    "\n",
    "    return candidates,grid\n",
    "moving_function(agent_1,grid_1)"
   ]
  },
  {
   "cell_type": "code",
   "execution_count": null,
   "id": "b95318a8-8d61-425d-9035-a15c6fad16ae",
   "metadata": {},
   "outputs": [],
   "source": [
    " move_entity(entity, grid)\n",
    "Purpose: Move a given agent or cop to a random empty cell within their vision.\n",
    "Does: Checks vision area, finds empty cells, moves entity there.\n",
    "Returns: Updated position (and updated grid if needed)."
   ]
  },
  {
   "cell_type": "code",
   "execution_count": null,
   "id": "787a5ac2-cd29-4ea7-aa02-54aae6810f4d",
   "metadata": {},
   "outputs": [],
   "source": [
    "estimate_arrest_probability(agent, grid, k)\n",
    "Purpose: Estimate local risk of arrest.\n",
    "Does: Count cops and actives in agent's vision and apply:\n",
    "P = 1 - exp(-k * (C/A))\n",
    "Returns: A float, the arrest probability P."
   ]
  },
  {
   "cell_type": "code",
   "execution_count": null,
   "id": "ff40bf22-b323-4b12-ab26-b7c1627e31a6",
   "metadata": {},
   "outputs": [],
   "source": [
    " calculate_grievance(agent, legitimacy)\n",
    "Purpose: Quantify the agent’s discontent.\n",
    "Does: Uses formula G = H * (1 - L)\n",
    "Returns: Grievance value G."
   ]
  },
  {
   "cell_type": "code",
   "execution_count": null,
   "id": "2f4b78b4-dd4a-442b-8ee8-6d376689583d",
   "metadata": {},
   "outputs": [],
   "source": [
    "calculate_net_risk(agent, arrest_prob)\n",
    "Purpose: Adjust risk by agent's personality.\n",
    "Does: Calculates N = R * P\n",
    "Returns: Net risk value N."
   ]
  },
  {
   "cell_type": "code",
   "execution_count": null,
   "id": "b1cd5fc0-fd45-411b-8746-bc57e8349cbc",
   "metadata": {},
   "outputs": [],
   "source": [
    "decide_behavior(agent, grievance, net_risk, threshold)\n",
    "Purpose: Decide if agent becomes active or stays quiescent.\n",
    "Does: Applies:\n",
    "If G - N > T, then state = 'active'; else 'quiescent'\n",
    "Returns: Updated agent state."
   ]
  },
  {
   "cell_type": "code",
   "execution_count": null,
   "id": "8e2aa1f3-36ee-43c6-b452-e9a1cdd84aeb",
   "metadata": {},
   "outputs": [],
   "source": [
    "cop_arrest_action(cop, grid)\n",
    "Purpose: Let cops enforce order.\n",
    "Does: Cops scan vision; arrest one random 'active' agent.\n",
    "Returns: Agent ID if one is arrested, otherwise None."
   ]
  },
  {
   "cell_type": "code",
   "execution_count": null,
   "id": "4d4a006b-0b55-42be-b166-ab1cf55f5a3a",
   "metadata": {},
   "outputs": [],
   "source": [
    "0. assign_jail_time(max_jail)\n",
    "Purpose: Define how long an agent is removed from the grid.\n",
    "Does: Randomly assign jail time from U(0, max_jail)\n",
    "Returns: Jail time (integer)"
   ]
  },
  {
   "cell_type": "code",
   "execution_count": null,
   "id": "ea5fc7d0-4bee-4e0b-8b9d-3e9e62e760eb",
   "metadata": {},
   "outputs": [],
   "source": [
    "update_jail_status(jailed_agents)\n",
    "Purpose: Handle time steps in jail.\n",
    "Does: Decrease jail time for each jailed agent; reintegrate when time is up.\n",
    "Returns: Updated agent list and grid."
   ]
  },
  {
   "cell_type": "code",
   "execution_count": null,
   "id": "f49ac24c-18c3-470f-ba12-b5a68146b9b6",
   "metadata": {},
   "outputs": [],
   "source": [
    "run_simulation(steps, grid, agents, cops, parameters)\n",
    "Purpose: Execute the whole model.\n",
    "Does: For each step:\n",
    "Randomly choose an entity\n",
    "Move and apply behavior/arrest logic\n",
    "Update jail\n",
    "Optionally collect data for plotting/visualization\n",
    "Returns: Time series data (e.g., number of active agents over time)\n"
   ]
  }
 ],
 "metadata": {
  "kernelspec": {
   "display_name": "Python 3 (ipykernel)",
   "language": "python",
   "name": "python3"
  },
  "language_info": {
   "codemirror_mode": {
    "name": "ipython",
    "version": 3
   },
   "file_extension": ".py",
   "mimetype": "text/x-python",
   "name": "python",
   "nbconvert_exporter": "python",
   "pygments_lexer": "ipython3",
   "version": "3.12.2"
  }
 },
 "nbformat": 4,
 "nbformat_minor": 5
}
