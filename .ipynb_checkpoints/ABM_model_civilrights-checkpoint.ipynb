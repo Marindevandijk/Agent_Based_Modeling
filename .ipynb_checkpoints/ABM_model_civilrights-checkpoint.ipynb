{
 "cells": [
  {
   "cell_type": "code",
   "execution_count": 6,
   "id": "f130fc51-4de3-4a25-bfcb-cc71befe756d",
   "metadata": {},
   "outputs": [],
   "source": [
    "import numpy as np\n",
    "import random"
   ]
  },
  {
   "cell_type": "code",
   "execution_count": 33,
   "id": "ddc63e6b-6184-460a-aacd-ed93626de328",
   "metadata": {},
   "outputs": [
    {
     "name": "stdout",
     "output_type": "stream",
     "text": [
      "[[0. 0. 1. 0. 0.]\n",
      " [0. 0. 0. 0. 1.]\n",
      " [0. 0. 2. 0. 2.]\n",
      " [0. 0. 0. 0. 0.]\n",
      " [0. 0. 0. 0. 0.]]\n"
     ]
    }
   ],
   "source": [
    "def initialize_grid(grid_size, agent_density, cop_density):\n",
    "    grid = np.zeros((grid_size, grid_size))\n",
    "\n",
    "    num_agents = int(agent_density * (grid_size**2))\n",
    "    num_cops = int(cop_density * (grid_size**2))\n",
    "\n",
    "    placed_agents = 0\n",
    "    while placed_agents < num_agents:\n",
    "        x = random.randint(0, grid_size - 1)\n",
    "        y=random.randint(0,grid_size-1)\n",
    "        if grid[x][y] ==0:\n",
    "            grid[x][y] = 1   # 1 fir civilion\n",
    "            placed_agents += 1\n",
    "\n",
    "    placed_cops = 0\n",
    "    while placed_cops < num_cops:\n",
    "        x = random.randint(0, grid_size - 1)\n",
    "        y=random.randint(0,grid_size-1)\n",
    "        if grid[x][y] == 0:\n",
    "            grid[x][y] = 2 # 2 for cop\n",
    "            placed_cops += 1\n",
    "\n",
    "    return grid\n",
    "\n",
    "print(initialize_grid(5, 0.1, 0.1))   "
   ]
  },
  {
   "cell_type": "code",
   "execution_count": 49,
   "id": "546c2ba6-6a44-4fd3-a993-0fa862cc96e0",
   "metadata": {},
   "outputs": [
    {
     "name": "stdout",
     "output_type": "stream",
     "text": [
      "[[0. 0. 1. 0. 0.]\n",
      " [0. 0. 0. 0. 0.]\n",
      " [0. 0. 0. 0. 0.]\n",
      " [0. 0. 0. 2. 0.]\n",
      " [2. 0. 1. 0. 0.]]\n"
     ]
    }
   ],
   "source": [
    "grid_1 = initialize_grid(5, 0.1, 0.1)\n",
    "print(grid_1)"
   ]
  },
  {
   "cell_type": "code",
   "execution_count": 50,
   "id": "b5c358c0-f0bd-4090-9262-08e8dfe1ac70",
   "metadata": {},
   "outputs": [
    {
     "name": "stdout",
     "output_type": "stream",
     "text": [
      "{'id': 1, 'position': [1, 1], 'H': 0.09712351938135388, 'R': 0.9674802520868427, 'vision': 2, 'state': 'quiescent', 'jail_term': 0}\n"
     ]
    }
   ],
   "source": [
    "def create_agent(id, position, vision):\n",
    "    agent = {\n",
    "        \"id\": id,\n",
    "        \"position\": position,        \n",
    "        \"H\": np.random.uniform(),    \n",
    "        \"R\": np.random.uniform(), \n",
    "        \"vision\": vision,       \n",
    "        \"state\": \"quiescent\",\n",
    "        \"jail_term\": 0      \n",
    "    }\n",
    "    return agent\n",
    "agent_1 = create_agent(1, [0,2], 2)\n",
    "print(create_agent(1, [1,1], 2))\n",
    "\n",
    "def create_cop(id,position,vision):\n",
    "    cop = {\n",
    "        \"id\": id,\n",
    "        \"position\": position,\n",
    "        \"vision\": vision,\n",
    "    }\n",
    "    return cop"
   ]
  },
  {
   "cell_type": "code",
   "execution_count": 51,
   "id": "43c95d64-6842-4c93-8054-7e66b5a2e112",
   "metadata": {},
   "outputs": [
    {
     "name": "stdout",
     "output_type": "stream",
     "text": [
      "list options: [(0, 1), (0, 3), (1, 2)]\n",
      "previous grid;\n",
      "[[0. 0. 1. 0. 0.]\n",
      " [0. 0. 0. 0. 0.]\n",
      " [0. 0. 0. 0. 0.]\n",
      " [0. 0. 0. 2. 0.]\n",
      " [2. 0. 1. 0. 0.]]\n",
      "updated grid:\n",
      "[[0. 0. 0. 0. 0.]\n",
      " [0. 0. 1. 0. 0.]\n",
      " [0. 0. 0. 0. 0.]\n",
      " [0. 0. 0. 2. 0.]\n",
      " [2. 0. 1. 0. 0.]]\n"
     ]
    }
   ],
   "source": [
    "def moving_function(entity,grid):\n",
    "    # entity = cop or agent \n",
    "    # vision now just integer of surroundings \n",
    "\n",
    "    x,y = entity[\"position\"]\n",
    "    vision = entity[\"vision\"]\n",
    "    grid_size = len(grid)\n",
    "    candidates = []\n",
    "\n",
    "\n",
    "    for dx in range(-vision,vision+1): # if vision is one  then dx is range of  -1,0,1\n",
    "        for dy in range(-vision,vision+1):\n",
    "            if abs(dx) + abs(dy) <= 1: # with this we exclude diagonal points so only \n",
    "                x_new = (x+ dx) % grid_size\n",
    "                y_new = (y+ dy) % grid_size\n",
    "                if grid[x_new][y_new] == 0 and not (dx == 0 and dy == 0): # exclude own point \n",
    "                    candidates.append((x_new, y_new))\n",
    "    print('list options:',candidates)\n",
    "    print('previous grid;')\n",
    "    print(grid)\n",
    "    if candidates:\n",
    "        x_new, y_new = random.choice(candidates)\n",
    "        grid[x][y] = 0 # old position on zero \n",
    "\n",
    "    if 'state' in entity: # cop doesnt have state \n",
    "        grid[x_new][y_new] = 1\n",
    "    else:\n",
    "        grid[x_new][y_new] = 2\n",
    "    print('updated grid:')\n",
    "    print(grid)\n",
    "\n",
    "    return #candidates,grid\n",
    "moving_function(agent_1,grid_1)"
   ]
  }
 ],
 "metadata": {
  "kernelspec": {
   "display_name": "Python 3 (ipykernel)",
   "language": "python",
   "name": "python3"
  },
  "language_info": {
   "codemirror_mode": {
    "name": "ipython",
    "version": 3
   },
   "file_extension": ".py",
   "mimetype": "text/x-python",
   "name": "python",
   "nbconvert_exporter": "python",
   "pygments_lexer": "ipython3",
   "version": "3.12.2"
  }
 },
 "nbformat": 4,
 "nbformat_minor": 5
}
